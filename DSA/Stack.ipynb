{
 "cells": [
  {
   "cell_type": "markdown",
   "id": "cfd81d81",
   "metadata": {},
   "source": [
    "# STACK"
   ]
  },
  {
   "cell_type": "code",
   "execution_count": 2,
   "id": "a52ef22c",
   "metadata": {},
   "outputs": [
    {
     "name": "stdout",
     "output_type": "stream",
     "text": [
      "Initial Stack: []\n",
      "Stack after pushes: [100, 260, 360]\n",
      "Top element (peek): 360\n",
      "Removed element (pop): 360\n",
      "Stack after pop: [100, 260]\n",
      "Is stack empty? False\n",
      "Stack size: 2\n"
     ]
    }
   ],
   "source": [
    "# Stack implementation using a class\n",
    "class Stack:\n",
    "    def __init__(self):\n",
    "        self.stack = []  # internal list to store elements\n",
    "\n",
    "    # Push operation: Add element at the end\n",
    "    def push(self, item):\n",
    "        self.stack += [item]  # concatenation instead of append\n",
    "\n",
    "    # Pop operation: Remove and return top element\n",
    "    def pop(self):\n",
    "        if not self.isEmpty():\n",
    "            top_element = self.stack[len(self.stack)-1]\n",
    "            self.stack = self.stack[:-1]  # remove last element manually\n",
    "            return top_element\n",
    "        else:\n",
    "            return \"Stack Underflow\"\n",
    "\n",
    "    # Peek operation: Return top element without removing\n",
    "    def peek(self):\n",
    "        if not self.isEmpty():\n",
    "            return self.stack[len(self.stack)-1]\n",
    "        else:\n",
    "            return \"Stack is empty\"\n",
    "\n",
    "    # isEmpty operation: Check if stack is empty\n",
    "    def isEmpty(self):\n",
    "        return len(self.stack) == 0\n",
    "\n",
    "    # size operation: Return number of elements in stack\n",
    "    def size(self):\n",
    "        return len(self.stack)\n",
    "\n",
    "    # Display stack (for debugging)\n",
    "    def display(self):\n",
    "        return self.stack\n",
    "\n",
    "\n",
    "# Example usage:\n",
    "s = Stack()\n",
    "print(\"Initial Stack:\", s.display())\n",
    "\n",
    "s.push(100)\n",
    "s.push(260)\n",
    "s.push(360)\n",
    "print(\"Stack after pushes:\", s.display())\n",
    "\n",
    "print(\"Top element (peek):\", s.peek())\n",
    "\n",
    "print(\"Removed element (pop):\", s.pop())\n",
    "print(\"Stack after pop:\", s.display())\n",
    "\n",
    "print(\"Is stack empty?\", s.isEmpty())\n",
    "print(\"Stack size:\", s.size())\n"
   ]
  },
  {
   "cell_type": "markdown",
   "id": "12e7fb2a",
   "metadata": {},
   "source": [
    "# DECLARATION OF STACK"
   ]
  },
  {
   "cell_type": "code",
   "execution_count": 3,
   "id": "4e4ee687",
   "metadata": {},
   "outputs": [
    {
     "name": "stdout",
     "output_type": "stream",
     "text": [
      "Initial stack: []\n"
     ]
    }
   ],
   "source": [
    "stack = []\n",
    "print(\"Initial stack:\", stack)\n"
   ]
  },
  {
   "cell_type": "markdown",
   "id": "ad6a2e35",
   "metadata": {},
   "source": [
    "# FUNCTIONS"
   ]
  },
  {
   "cell_type": "markdown",
   "id": "6ace4132",
   "metadata": {},
   "source": [
    "# PUSH"
   ]
  },
  {
   "cell_type": "code",
   "execution_count": 4,
   "id": "b834be45",
   "metadata": {},
   "outputs": [
    {
     "name": "stdout",
     "output_type": "stream",
     "text": [
      "After push operations: [10, 20, 30]\n"
     ]
    }
   ],
   "source": [
    "stack = []\n",
    "stack.append(10)\n",
    "stack.append(20)\n",
    "stack.append(30)\n",
    "print(\"After push operations:\", stack)\n"
   ]
  },
  {
   "cell_type": "markdown",
   "id": "77f7f8e0",
   "metadata": {},
   "source": [
    "# POP"
   ]
  },
  {
   "cell_type": "code",
   "execution_count": 5,
   "id": "368765f5",
   "metadata": {},
   "outputs": [
    {
     "name": "stdout",
     "output_type": "stream",
     "text": [
      "Removed element: 30\n",
      "After pop operation: [10, 20]\n"
     ]
    }
   ],
   "source": [
    "stack = [10, 20, 30]\n",
    "removed = stack.pop()\n",
    "print(\"Removed element:\", removed)\n",
    "print(\"After pop operation:\", stack)\n"
   ]
  },
  {
   "cell_type": "markdown",
   "id": "2cb18ef0",
   "metadata": {},
   "source": [
    "# PEEK"
   ]
  },
  {
   "cell_type": "code",
   "execution_count": 6,
   "id": "c955356b",
   "metadata": {},
   "outputs": [
    {
     "name": "stdout",
     "output_type": "stream",
     "text": [
      "Top element: 30\n"
     ]
    }
   ],
   "source": [
    "stack = [10, 20, 30]\n",
    "print(\"Top element:\", stack[-1])\n"
   ]
  },
  {
   "cell_type": "markdown",
   "id": "67c5e295",
   "metadata": {},
   "source": [
    "# isEmpty"
   ]
  },
  {
   "cell_type": "code",
   "execution_count": 7,
   "id": "ee385999",
   "metadata": {},
   "outputs": [
    {
     "name": "stdout",
     "output_type": "stream",
     "text": [
      "Is stack empty? True\n"
     ]
    }
   ],
   "source": [
    "stack = []\n",
    "print(\"Is stack empty?\", len(stack) == 0)\n"
   ]
  },
  {
   "cell_type": "markdown",
   "id": "222f0c82",
   "metadata": {},
   "source": [
    "# SIZE"
   ]
  },
  {
   "cell_type": "code",
   "execution_count": 8,
   "id": "91af695f",
   "metadata": {},
   "outputs": [
    {
     "name": "stdout",
     "output_type": "stream",
     "text": [
      "Size of stack: 3\n"
     ]
    }
   ],
   "source": [
    "stack = [10, 20, 30]\n",
    "print(\"Size of stack:\", len(stack))\n"
   ]
  },
  {
   "cell_type": "markdown",
   "id": "18e0f5bc",
   "metadata": {},
   "source": [
    "### 1. Next Greater Element (NGE) Using Stack\n",
    "\n",
    "Problem:\n",
    "\n",
    "- Given an array, for each element, find the next greater element to its right. If there’s no greater element, print -1 for that position.\n",
    "\n",
    "- Solve this using a stack efficiently in O(n) time.\n",
    "\n",
    "\n",
    "Example\n",
    "\n",
    "Input: [4, 5, 2, 25]  \n",
    "Output: {4: 5, 5: 25, 2: 25, 25: -1}\n"
   ]
  },
  {
   "cell_type": "code",
   "execution_count": 9,
   "id": "4bb4444c",
   "metadata": {},
   "outputs": [
    {
     "name": "stdout",
     "output_type": "stream",
     "text": [
      "Next Greater Elements: {4: 5, 2: 25, 5: 25, 25: -1}\n"
     ]
    }
   ],
   "source": [
    "def nextGreaterElement(arr):\n",
    "    result = {}\n",
    "    stack = []\n",
    "\n",
    "    for num in arr:\n",
    "        # Pop elements from stack if current num is greater\n",
    "        while stack and stack[-1] < num:\n",
    "            result[stack.pop()] = num\n",
    "        stack.append(num)\n",
    "\n",
    "    # Remaining elements have no greater element\n",
    "    while stack:\n",
    "        result[stack.pop()] = -1\n",
    "\n",
    "    return result\n",
    "\n",
    "# Test\n",
    "arr = [4, 5, 2, 25]\n",
    "print(\"Next Greater Elements:\", nextGreaterElement(arr))\n"
   ]
  },
  {
   "cell_type": "markdown",
   "id": "9e5e4d2d",
   "metadata": {},
   "source": [
    "### 2. Check for Balanced Parentheses\n",
    "\n",
    "Example:\n",
    "\n",
    "Input: \"{ [ ( ) ] }\" → Balanced\n",
    "\n",
    "Input: \"{ [ ( ] ) }\" → Not Balanced"
   ]
  },
  {
   "cell_type": "code",
   "execution_count": 10,
   "id": "2e87ec61",
   "metadata": {},
   "outputs": [
    {
     "name": "stdout",
     "output_type": "stream",
     "text": [
      "Balanced\n",
      "Not Balanced\n"
     ]
    }
   ],
   "source": [
    "def isBalanced(expression):\n",
    "    stack = []\n",
    "    pairs = {')': '(', '}': '{', ']': '['}\n",
    "\n",
    "    for char in expression:\n",
    "        if char in '({[':\n",
    "            stack.append(char)\n",
    "        elif char in ')}]':\n",
    "            if not stack or stack[-1] != pairs[char]:\n",
    "                return \"Not Balanced\"\n",
    "            stack.pop()\n",
    "\n",
    "    return \"Balanced\" if not stack else \"Not Balanced\"\n",
    "\n",
    "# Test cases\n",
    "print(isBalanced(\"{[()]}\"))   # Balanced\n",
    "print(isBalanced(\"{[(])}\"))   # Not Balanced\n"
   ]
  },
  {
   "cell_type": "markdown",
   "id": "5ff842d3",
   "metadata": {},
   "source": [
    "## 3. Reverse a String Using Stack\n",
    "\n",
    "Example:\n",
    "\n",
    "Input: \"hello\"\n",
    "\n",
    "Output: \"olleh\""
   ]
  },
  {
   "cell_type": "code",
   "execution_count": 11,
   "id": "3ed7b9fb",
   "metadata": {},
   "outputs": [
    {
     "name": "stdout",
     "output_type": "stream",
     "text": [
      "olleh\n"
     ]
    }
   ],
   "source": [
    "def reverseString(string):\n",
    "    stack = []\n",
    "\n",
    "    for char in string:\n",
    "        stack.append(char)\n",
    "\n",
    "    reversed_str = \"\"\n",
    "    while stack:\n",
    "        reversed_str += stack.pop()\n",
    "\n",
    "    return reversed_str\n",
    "\n",
    "# Test\n",
    "print(reverseString(\"hello\"))  # olleh\n"
   ]
  },
  {
   "cell_type": "markdown",
   "id": "a04504ba",
   "metadata": {},
   "source": [
    "### 4. Sort a Stack (Using One More Stack)\n",
    "\n",
    "Example:\n",
    "\n",
    "Input: [34, 3, 31, 98, 92, 23]\n",
    "\n",
    "Output: [3, 23, 31, 34, 92, 98]"
   ]
  },
  {
   "cell_type": "code",
   "execution_count": 12,
   "id": "fed09b93",
   "metadata": {},
   "outputs": [
    {
     "name": "stdout",
     "output_type": "stream",
     "text": [
      "Sorted stack: [3, 23, 31, 34, 92, 98]\n"
     ]
    }
   ],
   "source": [
    "def sortStack(original_stack):\n",
    "    temp_stack = []\n",
    "\n",
    "    while original_stack:\n",
    "        temp = original_stack.pop()\n",
    "\n",
    "        while temp_stack and temp_stack[-1] > temp:\n",
    "            original_stack.append(temp_stack.pop())\n",
    "\n",
    "        temp_stack.append(temp)\n",
    "\n",
    "    return temp_stack\n",
    "\n",
    "# Test\n",
    "stack = [34, 3, 31, 98, 92, 23]\n",
    "sorted_stack = sortStack(stack)\n",
    "print(\"Sorted stack:\", sorted_stack)\n"
   ]
  }
 ],
 "metadata": {
  "kernelspec": {
   "display_name": "Python 3",
   "language": "python",
   "name": "python3"
  },
  "language_info": {
   "codemirror_mode": {
    "name": "ipython",
    "version": 3
   },
   "file_extension": ".py",
   "mimetype": "text/x-python",
   "name": "python",
   "nbconvert_exporter": "python",
   "pygments_lexer": "ipython3",
   "version": "3.12.1"
  }
 },
 "nbformat": 4,
 "nbformat_minor": 5
}
