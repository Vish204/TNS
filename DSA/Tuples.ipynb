{
 "cells": [
  {
   "cell_type": "markdown",
   "id": "8d3010e8",
   "metadata": {},
   "source": [
    "# DECLARATION OF TUPLES"
   ]
  },
  {
   "cell_type": "code",
   "execution_count": 13,
   "id": "0053f0ed",
   "metadata": {},
   "outputs": [
    {
     "name": "stdout",
     "output_type": "stream",
     "text": [
      "Tuple: (10, 20, 30, 40, 50)\n"
     ]
    }
   ],
   "source": [
    "# Creating a tuple\n",
    "my_tuple = (10, 20, 30, 40, 50)\n",
    "\n",
    "# Display the tuple\n",
    "print(\"Tuple:\", my_tuple)\n"
   ]
  },
  {
   "cell_type": "markdown",
   "id": "ee185940",
   "metadata": {},
   "source": [
    "# Functions"
   ]
  },
  {
   "cell_type": "markdown",
   "id": "5395471a",
   "metadata": {},
   "source": [
    "# INDEX"
   ]
  },
  {
   "cell_type": "code",
   "execution_count": 14,
   "id": "ac5e2433",
   "metadata": {},
   "outputs": [
    {
     "name": "stdout",
     "output_type": "stream",
     "text": [
      "Index of 20: 1\n"
     ]
    }
   ],
   "source": [
    "# Given tuple\n",
    "my_tuple = (10, 20, 30, 20, 40)\n",
    "\n",
    "# Find index of first occurrence of 20\n",
    "index_of_20 = my_tuple.index(20)\n",
    "\n",
    "# Print the index\n",
    "print(\"Index of 20:\", index_of_20)\n"
   ]
  },
  {
   "cell_type": "markdown",
   "id": "7ef46d87",
   "metadata": {},
   "source": [
    "# COUNT"
   ]
  },
  {
   "cell_type": "code",
   "execution_count": 15,
   "id": "63be944b",
   "metadata": {},
   "outputs": [
    {
     "name": "stdout",
     "output_type": "stream",
     "text": [
      "Count of 10: 3\n"
     ]
    }
   ],
   "source": [
    "# Given tuple\n",
    "my_tuple = (10, 20, 10, 30, 10, 40)\n",
    "\n",
    "# Count how many times 10 appears\n",
    "count_10 = my_tuple.count(10)\n",
    "\n",
    "# Print the count\n",
    "print(\"Count of 10:\", count_10)"
   ]
  },
  {
   "cell_type": "markdown",
   "id": "5343c1db",
   "metadata": {},
   "source": [
    "# LEN"
   ]
  },
  {
   "cell_type": "code",
   "execution_count": 16,
   "id": "b1cc1276",
   "metadata": {},
   "outputs": [
    {
     "name": "stdout",
     "output_type": "stream",
     "text": [
      "Length of tuple: 4\n"
     ]
    }
   ],
   "source": [
    "# Given tuple\n",
    "my_tuple = (10, 20, 30, 40)\n",
    "\n",
    "# Find the length\n",
    "length = len(my_tuple)\n",
    "\n",
    "# Print the length\n",
    "print(\"Length of tuple:\", length)"
   ]
  },
  {
   "cell_type": "markdown",
   "id": "25429be6",
   "metadata": {},
   "source": [
    "# MIN AND MAX"
   ]
  },
  {
   "cell_type": "code",
   "execution_count": 17,
   "id": "96e20293",
   "metadata": {},
   "outputs": [
    {
     "name": "stdout",
     "output_type": "stream",
     "text": [
      "Max value: 40\n",
      "Min value: 10\n"
     ]
    }
   ],
   "source": [
    "# Given tuple\n",
    "my_tuple = (10, 20, 30, 40)\n",
    "\n",
    "# Find max and min values\n",
    "maximum_value = max(my_tuple)\n",
    "minimum_value = min(my_tuple)\n",
    "\n",
    "# Print values\n",
    "print(\"Max value:\", maximum_value)\n",
    "print(\"Min value:\", minimum_value)\n"
   ]
  },
  {
   "cell_type": "markdown",
   "id": "41089de1",
   "metadata": {},
   "source": [
    "# SUM"
   ]
  },
  {
   "cell_type": "code",
   "execution_count": 18,
   "id": "a7baf976",
   "metadata": {},
   "outputs": [
    {
     "name": "stdout",
     "output_type": "stream",
     "text": [
      "Sum of tuple: 100\n"
     ]
    }
   ],
   "source": [
    "# Given tuple\n",
    "my_tuple = (10, 20, 30, 40)\n",
    "\n",
    "# Calculate sum\n",
    "total = sum(my_tuple)\n",
    "\n",
    "# Print the sum\n",
    "print(\"Sum of tuple:\", total)\n"
   ]
  },
  {
   "cell_type": "markdown",
   "id": "b92fca46",
   "metadata": {},
   "source": [
    "# TUPLE"
   ]
  },
  {
   "cell_type": "code",
   "execution_count": 19,
   "id": "2a817625",
   "metadata": {},
   "outputs": [
    {
     "name": "stdout",
     "output_type": "stream",
     "text": [
      "Converted tuple: [10, 20, 30, 40]\n"
     ]
    }
   ],
   "source": [
    "# Given list\n",
    "my_list = [10, 20, 30, 40]\n",
    "\n",
    "# Convert to tuple\n",
    "my_tuple = (my_list)\n",
    "\n",
    "# Print the tuple\n",
    "print(\"Converted tuple:\", my_tuple)\n"
   ]
  },
  {
   "cell_type": "markdown",
   "id": "32a7ee4f",
   "metadata": {},
   "source": [
    "### 1. Given a tuple of numbers and a target element, find and print all indexes where the target element occurs in the tuple."
   ]
  },
  {
   "cell_type": "code",
   "execution_count": 20,
   "id": "617582f9",
   "metadata": {},
   "outputs": [
    {
     "name": "stdout",
     "output_type": "stream",
     "text": [
      "[1, 3, 5]\n"
     ]
    }
   ],
   "source": [
    "my_tuple = (10, 20, 30, 20, 40, 20)\n",
    "target = 20\n",
    "\n",
    "indexes = []\n",
    "for i in range(len(my_tuple)):\n",
    "    if my_tuple[i] == target:\n",
    "        indexes.append(i)\n",
    "\n",
    "print(indexes)\n"
   ]
  },
  {
   "cell_type": "markdown",
   "id": "eb3ac5e0",
   "metadata": {},
   "source": [
    "## 2: Flatten a Tuple of Tuples"
   ]
  },
  {
   "cell_type": "code",
   "execution_count": 21,
   "id": "b3caaec4",
   "metadata": {},
   "outputs": [
    {
     "name": "stdout",
     "output_type": "stream",
     "text": [
      "(1, 2, 3, 4, 5, 6)\n"
     ]
    }
   ],
   "source": [
    "nested_tuple = ((1, 2), (3, 4), (5, 6))\n",
    "flat_list = []\n",
    "\n",
    "for t in nested_tuple:\n",
    "    for num in t:\n",
    "        flat_list.append(num)\n",
    "\n",
    "flat_tuple = tuple(flat_list)\n",
    "print(flat_tuple)\n"
   ]
  },
  {
   "cell_type": "markdown",
   "id": "c8c011f6",
   "metadata": {},
   "source": [
    "## 3. Swap First and Last Elements"
   ]
  },
  {
   "cell_type": "code",
   "execution_count": 22,
   "id": "a340d369",
   "metadata": {},
   "outputs": [
    {
     "name": "stdout",
     "output_type": "stream",
     "text": [
      "(40, 20, 30, 10)\n"
     ]
    }
   ],
   "source": [
    "my_tuple = (10, 20, 30, 40)\n",
    "temp = list(my_tuple)\n",
    "\n",
    "temp[0], temp[-1] = temp[-1], temp[0]\n",
    "\n",
    "new_tuple = tuple(temp)\n",
    "print(new_tuple)\n"
   ]
  },
  {
   "cell_type": "markdown",
   "id": "07a1ab40",
   "metadata": {},
   "source": [
    " ## 4: Find Second Largest Element"
   ]
  },
  {
   "cell_type": "code",
   "execution_count": 23,
   "id": "7081e6ea",
   "metadata": {},
   "outputs": [
    {
     "name": "stdout",
     "output_type": "stream",
     "text": [
      "(40, 20, 30, 10)\n"
     ]
    }
   ],
   "source": [
    "my_tuple = (10, 20, 30, 40)\n",
    "temp = list(my_tuple)\n",
    "\n",
    "temp[0], temp[-1] = temp[-1], temp[0]\n",
    "\n",
    "new_tuple = tuple(temp)\n",
    "print(new_tuple)\n"
   ]
  },
  {
   "cell_type": "markdown",
   "id": "97d352cd",
   "metadata": {},
   "source": [
    "## 5: Check if Two Tuples are Identical"
   ]
  },
  {
   "cell_type": "code",
   "execution_count": 24,
   "id": "8cdae487",
   "metadata": {},
   "outputs": [
    {
     "name": "stdout",
     "output_type": "stream",
     "text": [
      "True\n"
     ]
    }
   ],
   "source": [
    "tuple1 = (10, 20, 30)\n",
    "tuple2 = (10, 20, 30)\n",
    "\n",
    "print(tuple1 == tuple2)\n"
   ]
  }
 ],
 "metadata": {
  "kernelspec": {
   "display_name": "Python 3",
   "language": "python",
   "name": "python3"
  },
  "language_info": {
   "codemirror_mode": {
    "name": "ipython",
    "version": 3
   },
   "file_extension": ".py",
   "mimetype": "text/x-python",
   "name": "python",
   "nbconvert_exporter": "python",
   "pygments_lexer": "ipython3",
   "version": "3.12.1"
  }
 },
 "nbformat": 4,
 "nbformat_minor": 5
}
