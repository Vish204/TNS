{
 "cells": [
  {
   "cell_type": "code",
   "execution_count": 1,
   "metadata": {
    "colab": {
     "background_save": true,
     "base_uri": "https://localhost:8080/"
    },
    "id": "gpx-BZrbF24G",
    "outputId": "afc42c1a-d153-4caf-c5fd-39c0ab5de27a"
   },
   "outputs": [
    {
     "name": "stdout",
     "output_type": "stream",
     "text": [
      "\n",
      "Training LSTM...\n",
      "Epoch 1/2\n"
     ]
    },
    {
     "name": "stderr",
     "output_type": "stream",
     "text": [
      "C:\\Users\\visha\\AppData\\Roaming\\Python\\Python312\\site-packages\\keras\\src\\layers\\core\\embedding.py:97: UserWarning: Argument `input_length` is deprecated. Just remove it.\n",
      "  warnings.warn(\n"
     ]
    },
    {
     "name": "stdout",
     "output_type": "stream",
     "text": [
      "\u001b[1m313/313\u001b[0m \u001b[32m━━━━━━━━━━━━━━━━━━━━\u001b[0m\u001b[37m\u001b[0m \u001b[1m89s\u001b[0m 277ms/step - accuracy: 0.8098 - loss: 0.4162 - val_accuracy: 0.8474 - val_loss: 0.3612\n",
      "Epoch 2/2\n",
      "\u001b[1m313/313\u001b[0m \u001b[32m━━━━━━━━━━━━━━━━━━━━\u001b[0m\u001b[37m\u001b[0m \u001b[1m118s\u001b[0m 199ms/step - accuracy: 0.9006 - loss: 0.2554 - val_accuracy: 0.8668 - val_loss: 0.3182\n",
      "\n",
      "Training GRU...\n",
      "Epoch 1/2\n",
      "\u001b[1m313/313\u001b[0m \u001b[32m━━━━━━━━━━━━━━━━━━━━\u001b[0m\u001b[37m\u001b[0m \u001b[1m80s\u001b[0m 239ms/step - accuracy: 0.7666 - loss: 0.4765 - val_accuracy: 0.8520 - val_loss: 0.3580\n",
      "Epoch 2/2\n",
      "\u001b[1m313/313\u001b[0m \u001b[32m━━━━━━━━━━━━━━━━━━━━\u001b[0m\u001b[37m\u001b[0m \u001b[1m54s\u001b[0m 150ms/step - accuracy: 0.8882 - loss: 0.2767 - val_accuracy: 0.8734 - val_loss: 0.3197\n",
      "\n",
      "Evaluating LSTM...\n",
      "\u001b[1m782/782\u001b[0m \u001b[32m━━━━━━━━━━━━━━━━━━━━\u001b[0m\u001b[37m\u001b[0m \u001b[1m25s\u001b[0m 32ms/step - accuracy: 0.8595 - loss: 0.3264\n",
      "[0.32635200023651123, 0.8594800233840942]\n",
      "\n",
      "Evaluating GRU...\n",
      "\u001b[1m782/782\u001b[0m \u001b[32m━━━━━━━━━━━━━━━━━━━━\u001b[0m\u001b[37m\u001b[0m \u001b[1m23s\u001b[0m 29ms/step - accuracy: 0.8618 - loss: 0.3424\n",
      "[0.3424227833747864, 0.861840009689331]\n"
     ]
    }
   ],
   "source": [
    "import tensorflow as tf\n",
    "from tensorflow.keras.datasets import imdb\n",
    "from tensorflow.keras.preprocessing.sequence import pad_sequences\n",
    "from tensorflow.keras.models import Sequential\n",
    "from tensorflow.keras.layers import Embedding, LSTM, GRU, Dense\n",
    "\n",
    "# 1. Load dataset\n",
    "(x_train, y_train), (x_test, y_test) = imdb.load_data(num_words=10000)\n",
    "\n",
    "# 2. Pad sequences\n",
    "max_len = 200\n",
    "x_train = pad_sequences(x_train, maxlen=max_len)\n",
    "x_test = pad_sequences(x_test, maxlen=max_len)\n",
    "\n",
    "# --------------------------\n",
    "# LSTM Model\n",
    "# --------------------------\n",
    "lstm_model = Sequential([\n",
    "    Embedding(10000, 128, input_length=max_len),\n",
    "    LSTM(128),\n",
    "    Dense(1, activation='sigmoid')\n",
    "])\n",
    "\n",
    "lstm_model.compile(optimizer='adam', loss='binary_crossentropy', metrics=['accuracy'])\n",
    "print(\"\\nTraining LSTM...\")\n",
    "lstm_model.fit(x_train, y_train, epochs=2, batch_size=64, validation_split=0.2)\n",
    "\n",
    "# --------------------------\n",
    "# GRU Model\n",
    "# --------------------------\n",
    "gru_model = Sequential([\n",
    "    Embedding(10000, 128, input_length=max_len),\n",
    "    GRU(128),\n",
    "    Dense(1, activation='sigmoid')\n",
    "])\n",
    "\n",
    "gru_model.compile(optimizer='adam', loss='binary_crossentropy', metrics=['accuracy'])\n",
    "print(\"\\nTraining GRU...\")\n",
    "gru_model.fit(x_train, y_train, epochs=2, batch_size=64, validation_split=0.2)\n",
    "\n",
    "# Evaluate both\n",
    "print(\"\\nEvaluating LSTM...\")\n",
    "print(lstm_model.evaluate(x_test, y_test))\n",
    "\n",
    "print(\"\\nEvaluating GRU...\")\n",
    "print(gru_model.evaluate(x_test, y_test))\n"
   ]
  }
 ],
 "metadata": {
  "colab": {
   "authorship_tag": "ABX9TyPDVD3JnHFvYr+gON1PoyZJ",
   "provenance": []
  },
  "kernelspec": {
   "display_name": "Python 3",
   "name": "python3"
  },
  "language_info": {
   "codemirror_mode": {
    "name": "ipython",
    "version": 3
   },
   "file_extension": ".py",
   "mimetype": "text/x-python",
   "name": "python",
   "nbconvert_exporter": "python",
   "pygments_lexer": "ipython3",
   "version": "3.12.1"
  }
 },
 "nbformat": 4,
 "nbformat_minor": 0
}
