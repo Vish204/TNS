{
 "cells": [
  {
   "cell_type": "code",
   "execution_count": 4,
   "id": "6cf96d12-625a-4a1b-9eb9-f482c1bafdf5",
   "metadata": {},
   "outputs": [
    {
     "name": "stdout",
     "output_type": "stream",
     "text": [
      "Intercept (b0): 24.999999999999993\n",
      "Coefficient for Hours_Studied (b1): 0.30769230769230776\n",
      "Coefficient for Problems_Solved (b2): 1.5384615384615388\n",
      "Predicted Marks: 65.61538461538461\n"
     ]
    }
   ],
   "source": [
    "import pandas as pd\n",
    "from sklearn.linear_model import LinearRegression\n",
    "\n",
    "# Step 1: Prepare the data\n",
    "data = {\n",
    "    'Hours_Studied': [2, 4, 6, 8],\n",
    "    'Problems_Solved': [10, 20, 30, 40],\n",
    "    'Marks': [40, 60, 70, 90]\n",
    "}\n",
    "df = pd.DataFrame(data)\n",
    "\n",
    "# Step 2: Define features (X) and target (Y)\n",
    "X = df[['Hours_Studied', 'Problems_Solved']]\n",
    "y = df['Marks']\n",
    "\n",
    "# Step 3: Train the model\n",
    "model = LinearRegression()\n",
    "model.fit(X, y)\n",
    "\n",
    "# Step 4: Display coefficients\n",
    "print(\"Intercept (b0):\", model.intercept_)\n",
    "print(\"Coefficient for Hours_Studied (b1):\", model.coef_[0])\n",
    "print(\"Coefficient for Problems_Solved (b2):\", model.coef_[1])\n",
    "\n",
    "# Step 5: Make a prediction\n",
    "# Example: Predict marks for a student who studied 5 hours and solved 25 problems\n",
    "predicted = model.predict(pd.DataFrame([[7, 25]], columns=['Hours_Studied', 'Problems_Solved']))\n",
    "print(\"Predicted Marks:\", predicted[0])\n",
    "\n",
    "\n"
   ]
  }
 ],
 "metadata": {
  "kernelspec": {
   "display_name": "Python 3",
   "language": "python",
   "name": "python3"
  },
  "language_info": {
   "codemirror_mode": {
    "name": "ipython",
    "version": 3
   },
   "file_extension": ".py",
   "mimetype": "text/x-python",
   "name": "python",
   "nbconvert_exporter": "python",
   "pygments_lexer": "ipython3",
   "version": "3.12.1"
  }
 },
 "nbformat": 4,
 "nbformat_minor": 5
}
